{
 "cells": [
  {
   "cell_type": "markdown",
   "id": "6fe83122",
   "metadata": {},
   "source": [
    "creating a model to predict the type of car based on no.of.seats and horse power."
   ]
  },
  {
   "cell_type": "code",
   "execution_count": 1,
   "id": "c75fc992",
   "metadata": {},
   "outputs": [],
   "source": [
    "##LABELLING DATA"
   ]
  },
  {
   "cell_type": "code",
   "execution_count": 2,
   "id": "4e7ad3b3",
   "metadata": {},
   "outputs": [],
   "source": [
    "from sklearn import tree"
   ]
  },
  {
   "cell_type": "code",
   "execution_count": 3,
   "id": "1a6fbb05",
   "metadata": {},
   "outputs": [],
   "source": [
    "features=[[500,2],[450,2],[400,2],[1000,1],[800,1],[1200,1],[100,4],[150,4],[100,4],[120,6],[100,6],[1600,1]]\n",
    "labels=['Super-car','Super-car','Super-car','F-1 car','F-1 car','F-1 car','Hatch-back','Hatch-back','Hatch-back','SUV','SUV','F-1 car']\n"
   ]
  },
  {
   "cell_type": "code",
   "execution_count": 4,
   "id": "d88ea948",
   "metadata": {},
   "outputs": [],
   "source": [
    "##Intialising a model"
   ]
  },
  {
   "cell_type": "code",
   "execution_count": 5,
   "id": "59d918cd",
   "metadata": {},
   "outputs": [],
   "source": [
    "classifier=tree.DecisionTreeClassifier()"
   ]
  },
  {
   "cell_type": "code",
   "execution_count": 6,
   "id": "c8e32127",
   "metadata": {},
   "outputs": [],
   "source": [
    "##Feeding data into the model"
   ]
  },
  {
   "cell_type": "code",
   "execution_count": 7,
   "id": "7ee933c1",
   "metadata": {},
   "outputs": [],
   "source": [
    "model=classifier.fit(features,labels)"
   ]
  },
  {
   "cell_type": "code",
   "execution_count": 8,
   "id": "a83801c5",
   "metadata": {},
   "outputs": [],
   "source": [
    "##predicting the op"
   ]
  },
  {
   "cell_type": "code",
   "execution_count": 9,
   "id": "45a6459d",
   "metadata": {},
   "outputs": [
    {
     "name": "stdout",
     "output_type": "stream",
     "text": [
      "The predicted car is ['Super-car']\n"
     ]
    }
   ],
   "source": [
    "x=model.predict([[400,6]])\n",
    "print('The predicted car is',x)"
   ]
  }
 ],
 "metadata": {
  "kernelspec": {
   "display_name": "Python 3 (ipykernel)",
   "language": "python",
   "name": "python3"
  },
  "language_info": {
   "codemirror_mode": {
    "name": "ipython",
    "version": 3
   },
   "file_extension": ".py",
   "mimetype": "text/x-python",
   "name": "python",
   "nbconvert_exporter": "python",
   "pygments_lexer": "ipython3",
   "version": "3.9.13"
  }
 },
 "nbformat": 4,
 "nbformat_minor": 5
}
